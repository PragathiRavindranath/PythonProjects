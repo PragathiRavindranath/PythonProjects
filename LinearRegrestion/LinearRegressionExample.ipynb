{
 "cells": [
  {
   "cell_type": "code",
   "execution_count": 1,
   "id": "6f5822b1",
   "metadata": {},
   "outputs": [],
   "source": [
    "import numpy as np \n",
    "import pandas as pd \n",
    "import matplotlib.pyplot as plt \n",
    "from sklearn.model_selection import train_test_split\n",
    "from sklearn.linear_model import LinearRegression"
   ]
  },
  {
   "cell_type": "code",
   "execution_count": 2,
   "id": "6b2fd01b",
   "metadata": {},
   "outputs": [
    {
     "data": {
      "text/html": [
       "<div>\n",
       "<style scoped>\n",
       "    .dataframe tbody tr th:only-of-type {\n",
       "        vertical-align: middle;\n",
       "    }\n",
       "\n",
       "    .dataframe tbody tr th {\n",
       "        vertical-align: top;\n",
       "    }\n",
       "\n",
       "    .dataframe thead th {\n",
       "        text-align: right;\n",
       "    }\n",
       "</style>\n",
       "<table border=\"1\" class=\"dataframe\">\n",
       "  <thead>\n",
       "    <tr style=\"text-align: right;\">\n",
       "      <th></th>\n",
       "      <th>County</th>\n",
       "      <th>FIPS</th>\n",
       "      <th>Met Objective of 45.5? (1)</th>\n",
       "      <th>Age-Adjusted Death Rate</th>\n",
       "      <th>Lower 95% Confidence Interval for Death Rate</th>\n",
       "      <th>Upper 95% Confidence Interval for Death Rate</th>\n",
       "      <th>Average Deaths per Year</th>\n",
       "      <th>Recent Trend (2)</th>\n",
       "      <th>Recent 5-Year Trend (2) in Death Rates</th>\n",
       "      <th>Lower 95% Confidence Interval for Trend</th>\n",
       "      <th>Upper 95% Confidence Interval for Trend</th>\n",
       "    </tr>\n",
       "  </thead>\n",
       "  <tbody>\n",
       "    <tr>\n",
       "      <th>0</th>\n",
       "      <td>United States</td>\n",
       "      <td>0</td>\n",
       "      <td>No</td>\n",
       "      <td>46</td>\n",
       "      <td>45.9</td>\n",
       "      <td>46.1</td>\n",
       "      <td>1,57,376</td>\n",
       "      <td>falling</td>\n",
       "      <td>-2.4</td>\n",
       "      <td>-2.6</td>\n",
       "      <td>-2.2</td>\n",
       "    </tr>\n",
       "    <tr>\n",
       "      <th>1</th>\n",
       "      <td>Perry County, Kentucky</td>\n",
       "      <td>21193</td>\n",
       "      <td>No</td>\n",
       "      <td>125.6</td>\n",
       "      <td>108.9</td>\n",
       "      <td>144.2</td>\n",
       "      <td>43</td>\n",
       "      <td>stable</td>\n",
       "      <td>-0.6</td>\n",
       "      <td>-2.7</td>\n",
       "      <td>1.6</td>\n",
       "    </tr>\n",
       "    <tr>\n",
       "      <th>2</th>\n",
       "      <td>Powell County, Kentucky</td>\n",
       "      <td>21197</td>\n",
       "      <td>No</td>\n",
       "      <td>125.3</td>\n",
       "      <td>100.2</td>\n",
       "      <td>155.1</td>\n",
       "      <td>18</td>\n",
       "      <td>stable</td>\n",
       "      <td>1.7</td>\n",
       "      <td>0</td>\n",
       "      <td>3.4</td>\n",
       "    </tr>\n",
       "    <tr>\n",
       "      <th>3</th>\n",
       "      <td>North Slope Borough, Alaska</td>\n",
       "      <td>2185</td>\n",
       "      <td>No</td>\n",
       "      <td>124.9</td>\n",
       "      <td>73</td>\n",
       "      <td>194.7</td>\n",
       "      <td>5</td>\n",
       "      <td>**</td>\n",
       "      <td>**</td>\n",
       "      <td>**</td>\n",
       "      <td>**</td>\n",
       "    </tr>\n",
       "    <tr>\n",
       "      <th>4</th>\n",
       "      <td>Owsley County, Kentucky</td>\n",
       "      <td>21189</td>\n",
       "      <td>No</td>\n",
       "      <td>118.5</td>\n",
       "      <td>83.1</td>\n",
       "      <td>165.5</td>\n",
       "      <td>8</td>\n",
       "      <td>stable</td>\n",
       "      <td>2.2</td>\n",
       "      <td>-0.4</td>\n",
       "      <td>4.8</td>\n",
       "    </tr>\n",
       "  </tbody>\n",
       "</table>\n",
       "</div>"
      ],
      "text/plain": [
       "                        County   FIPS Met Objective of 45.5? (1)  \\\n",
       "0                United States      0                         No   \n",
       "1       Perry County, Kentucky  21193                         No   \n",
       "2      Powell County, Kentucky  21197                         No   \n",
       "3  North Slope Borough, Alaska   2185                         No   \n",
       "4      Owsley County, Kentucky  21189                         No   \n",
       "\n",
       "  Age-Adjusted Death Rate Lower 95% Confidence Interval for Death Rate  \\\n",
       "0                      46                                         45.9   \n",
       "1                   125.6                                        108.9   \n",
       "2                   125.3                                        100.2   \n",
       "3                   124.9                                           73   \n",
       "4                   118.5                                         83.1   \n",
       "\n",
       "  Upper 95% Confidence Interval for Death Rate Average Deaths per Year  \\\n",
       "0                                         46.1                1,57,376   \n",
       "1                                        144.2                      43   \n",
       "2                                        155.1                      18   \n",
       "3                                        194.7                       5   \n",
       "4                                        165.5                       8   \n",
       "\n",
       "  Recent Trend (2) Recent 5-Year Trend (2) in Death Rates  \\\n",
       "0          falling                                   -2.4   \n",
       "1           stable                                   -0.6   \n",
       "2           stable                                    1.7   \n",
       "3               **                                     **   \n",
       "4           stable                                    2.2   \n",
       "\n",
       "  Lower 95% Confidence Interval for Trend  \\\n",
       "0                                    -2.6   \n",
       "1                                    -2.7   \n",
       "2                                       0   \n",
       "3                                      **   \n",
       "4                                    -0.4   \n",
       "\n",
       "  Upper 95% Confidence Interval for Trend  \n",
       "0                                    -2.2  \n",
       "1                                     1.6  \n",
       "2                                     3.4  \n",
       "3                                      **  \n",
       "4                                     4.8  "
      ]
     },
     "execution_count": 2,
     "metadata": {},
     "output_type": "execute_result"
    }
   ],
   "source": [
    "dataTable = pd.read_csv(\"death .csv\")\n",
    "dataTable.head()"
   ]
  },
  {
   "cell_type": "code",
   "execution_count": 3,
   "id": "d5782297",
   "metadata": {},
   "outputs": [
    {
     "data": {
      "text/html": [
       "<div>\n",
       "<style scoped>\n",
       "    .dataframe tbody tr th:only-of-type {\n",
       "        vertical-align: middle;\n",
       "    }\n",
       "\n",
       "    .dataframe tbody tr th {\n",
       "        vertical-align: top;\n",
       "    }\n",
       "\n",
       "    .dataframe thead th {\n",
       "        text-align: right;\n",
       "    }\n",
       "</style>\n",
       "<table border=\"1\" class=\"dataframe\">\n",
       "  <thead>\n",
       "    <tr style=\"text-align: right;\">\n",
       "      <th></th>\n",
       "      <th>County</th>\n",
       "      <th>FIPS</th>\n",
       "      <th>Met Objective of 45.5? (1)</th>\n",
       "      <th>Age-Adjusted Death Rate</th>\n",
       "      <th>Lower 95% Confidence Interval for Death Rate</th>\n",
       "      <th>Upper 95% Confidence Interval for Death Rate</th>\n",
       "      <th>Average Deaths per Year</th>\n",
       "      <th>Recent Trend (2)</th>\n",
       "      <th>Recent 5-Year Trend (2) in Death Rates</th>\n",
       "      <th>Lower 95% Confidence Interval for Trend</th>\n",
       "      <th>Upper 95% Confidence Interval for Trend</th>\n",
       "    </tr>\n",
       "  </thead>\n",
       "  <tbody>\n",
       "    <tr>\n",
       "      <th>0</th>\n",
       "      <td>United States</td>\n",
       "      <td>0</td>\n",
       "      <td>No</td>\n",
       "      <td>46</td>\n",
       "      <td>45.9</td>\n",
       "      <td>46.1</td>\n",
       "      <td>1,57,376</td>\n",
       "      <td>falling</td>\n",
       "      <td>-2.4</td>\n",
       "      <td>-2.6</td>\n",
       "      <td>-2.2</td>\n",
       "    </tr>\n",
       "    <tr>\n",
       "      <th>1</th>\n",
       "      <td>Perry County, Kentucky</td>\n",
       "      <td>21193</td>\n",
       "      <td>No</td>\n",
       "      <td>125.6</td>\n",
       "      <td>108.9</td>\n",
       "      <td>144.2</td>\n",
       "      <td>43</td>\n",
       "      <td>stable</td>\n",
       "      <td>-0.6</td>\n",
       "      <td>-2.7</td>\n",
       "      <td>1.6</td>\n",
       "    </tr>\n",
       "    <tr>\n",
       "      <th>2</th>\n",
       "      <td>Powell County, Kentucky</td>\n",
       "      <td>21197</td>\n",
       "      <td>No</td>\n",
       "      <td>125.3</td>\n",
       "      <td>100.2</td>\n",
       "      <td>155.1</td>\n",
       "      <td>18</td>\n",
       "      <td>stable</td>\n",
       "      <td>1.7</td>\n",
       "      <td>0</td>\n",
       "      <td>3.4</td>\n",
       "    </tr>\n",
       "    <tr>\n",
       "      <th>3</th>\n",
       "      <td>North Slope Borough, Alaska</td>\n",
       "      <td>2185</td>\n",
       "      <td>No</td>\n",
       "      <td>124.9</td>\n",
       "      <td>73</td>\n",
       "      <td>194.7</td>\n",
       "      <td>5</td>\n",
       "      <td>NaN</td>\n",
       "      <td>NaN</td>\n",
       "      <td>NaN</td>\n",
       "      <td>NaN</td>\n",
       "    </tr>\n",
       "    <tr>\n",
       "      <th>4</th>\n",
       "      <td>Owsley County, Kentucky</td>\n",
       "      <td>21189</td>\n",
       "      <td>No</td>\n",
       "      <td>118.5</td>\n",
       "      <td>83.1</td>\n",
       "      <td>165.5</td>\n",
       "      <td>8</td>\n",
       "      <td>stable</td>\n",
       "      <td>2.2</td>\n",
       "      <td>-0.4</td>\n",
       "      <td>4.8</td>\n",
       "    </tr>\n",
       "  </tbody>\n",
       "</table>\n",
       "</div>"
      ],
      "text/plain": [
       "                        County   FIPS Met Objective of 45.5? (1)  \\\n",
       "0                United States      0                         No   \n",
       "1       Perry County, Kentucky  21193                         No   \n",
       "2      Powell County, Kentucky  21197                         No   \n",
       "3  North Slope Borough, Alaska   2185                         No   \n",
       "4      Owsley County, Kentucky  21189                         No   \n",
       "\n",
       "  Age-Adjusted Death Rate Lower 95% Confidence Interval for Death Rate  \\\n",
       "0                      46                                         45.9   \n",
       "1                   125.6                                        108.9   \n",
       "2                   125.3                                        100.2   \n",
       "3                   124.9                                           73   \n",
       "4                   118.5                                         83.1   \n",
       "\n",
       "  Upper 95% Confidence Interval for Death Rate Average Deaths per Year  \\\n",
       "0                                         46.1                1,57,376   \n",
       "1                                        144.2                      43   \n",
       "2                                        155.1                      18   \n",
       "3                                        194.7                       5   \n",
       "4                                        165.5                       8   \n",
       "\n",
       "  Recent Trend (2) Recent 5-Year Trend (2) in Death Rates  \\\n",
       "0          falling                                   -2.4   \n",
       "1           stable                                   -0.6   \n",
       "2           stable                                    1.7   \n",
       "3              NaN                                    NaN   \n",
       "4           stable                                    2.2   \n",
       "\n",
       "  Lower 95% Confidence Interval for Trend  \\\n",
       "0                                    -2.6   \n",
       "1                                    -2.7   \n",
       "2                                       0   \n",
       "3                                     NaN   \n",
       "4                                    -0.4   \n",
       "\n",
       "  Upper 95% Confidence Interval for Trend  \n",
       "0                                    -2.2  \n",
       "1                                     1.6  \n",
       "2                                     3.4  \n",
       "3                                     NaN  \n",
       "4                                     4.8  "
      ]
     },
     "execution_count": 3,
     "metadata": {},
     "output_type": "execute_result"
    }
   ],
   "source": [
    "#Cleaning the DataTable \n",
    "dataTable.replace('**',np.nan, inplace=True)\n",
    "dataTable.replace('*',np.nan, inplace=True)\n",
    "dataTable.head()"
   ]
  },
  {
   "cell_type": "code",
   "execution_count": 4,
   "id": "9afe2bc7",
   "metadata": {},
   "outputs": [
    {
     "data": {
      "text/plain": [
       "County                                          object\n",
       "FIPS                                             int64\n",
       "Met Objective of 45.5? (1)                      object\n",
       "Age-Adjusted Death Rate                         object\n",
       "Lower 95% Confidence Interval for Death Rate    object\n",
       "Upper 95% Confidence Interval for Death Rate    object\n",
       "Average Deaths per Year                         object\n",
       "Recent Trend (2)                                object\n",
       "Recent 5-Year Trend (2) in Death Rates          object\n",
       "Lower 95% Confidence Interval for Trend         object\n",
       "Upper 95% Confidence Interval for Trend         object\n",
       "dtype: object"
      ]
     },
     "execution_count": 4,
     "metadata": {},
     "output_type": "execute_result"
    }
   ],
   "source": [
    "dataTable.dtypes"
   ]
  },
  {
   "cell_type": "code",
   "execution_count": 5,
   "id": "6198f56e",
   "metadata": {},
   "outputs": [],
   "source": [
    "#Data Wrangling \n",
    "dataTable['Age-Adjusted Death Rate'] = dataTable['Age-Adjusted Death Rate'].astype('float')\n",
    "dataTable['Lower 95% Confidence Interval for Death Rate'] = dataTable['Lower 95% Confidence Interval for Death Rate'].astype('float')\n",
    "dataTable['Upper 95% Confidence Interval for Death Rate'] = dataTable['Upper 95% Confidence Interval for Death Rate'].astype('float')\n",
    "dataTable['Average Deaths per Year'] = dataTable['Average Deaths per Year'].str.split(',').str.join('').astype('float')\n",
    "dataTable['Recent 5-Year Trend (2) in Death Rates'] = dataTable['Recent 5-Year Trend (2) in Death Rates'].astype('float')\n",
    "dataTable['Lower 95% Confidence Interval for Trend'] = dataTable['Lower 95% Confidence Interval for Trend'].astype('float')\n",
    "dataTable['Upper 95% Confidence Interval for Trend'] = dataTable['Upper 95% Confidence Interval for Trend'].astype('float')"
   ]
  },
  {
   "cell_type": "code",
   "execution_count": 6,
   "id": "2d776453",
   "metadata": {},
   "outputs": [
    {
     "data": {
      "text/plain": [
       "County                                           object\n",
       "FIPS                                              int64\n",
       "Met Objective of 45.5? (1)                       object\n",
       "Age-Adjusted Death Rate                         float64\n",
       "Lower 95% Confidence Interval for Death Rate    float64\n",
       "Upper 95% Confidence Interval for Death Rate    float64\n",
       "Average Deaths per Year                         float64\n",
       "Recent Trend (2)                                 object\n",
       "Recent 5-Year Trend (2) in Death Rates          float64\n",
       "Lower 95% Confidence Interval for Trend         float64\n",
       "Upper 95% Confidence Interval for Trend         float64\n",
       "dtype: object"
      ]
     },
     "execution_count": 6,
     "metadata": {},
     "output_type": "execute_result"
    }
   ],
   "source": [
    "dataTable.dtypes"
   ]
  },
  {
   "cell_type": "code",
   "execution_count": 7,
   "id": "54b0fd2b",
   "metadata": {},
   "outputs": [
    {
     "data": {
      "text/plain": [
       "(2694, 11)"
      ]
     },
     "execution_count": 7,
     "metadata": {},
     "output_type": "execute_result"
    }
   ],
   "source": [
    "dataTable.dropna(inplace=True)\n",
    "dataTable.shape"
   ]
  },
  {
   "cell_type": "code",
   "execution_count": 8,
   "id": "c309696c",
   "metadata": {},
   "outputs": [],
   "source": [
    "dt = dataTable.groupby(['Age-Adjusted Death Rate','Average Deaths per Year']).sum().reset_index()\n",
    "dt.dropna(axis=0, inplace=True)"
   ]
  },
  {
   "cell_type": "code",
   "execution_count": 9,
   "id": "176515a7",
   "metadata": {},
   "outputs": [],
   "source": [
    "regr = LinearRegression()"
   ]
  },
  {
   "cell_type": "code",
   "execution_count": 10,
   "id": "8ef9dfe5",
   "metadata": {},
   "outputs": [],
   "source": [
    "x = np.array(dt['FIPS']).reshape(-1,1)\n",
    "y = np.array(dt['Average Deaths per Year']).reshape(-1,1)"
   ]
  },
  {
   "cell_type": "code",
   "execution_count": 11,
   "id": "9cd352fa",
   "metadata": {},
   "outputs": [],
   "source": [
    "xtrain, xtest, ytrain, ytest = train_test_split(x,y,test_size = 0.2)"
   ]
  },
  {
   "cell_type": "code",
   "execution_count": 12,
   "id": "22bb4e37",
   "metadata": {},
   "outputs": [
    {
     "data": {
      "text/plain": [
       "LinearRegression()"
      ]
     },
     "execution_count": 12,
     "metadata": {},
     "output_type": "execute_result"
    }
   ],
   "source": [
    "regr.fit(xtrain,ytrain)"
   ]
  },
  {
   "cell_type": "code",
   "execution_count": 13,
   "id": "061f53f3",
   "metadata": {},
   "outputs": [],
   "source": [
    "ypred = regr.predict(xtest)"
   ]
  },
  {
   "cell_type": "code",
   "execution_count": 14,
   "id": "9ef278ab",
   "metadata": {},
   "outputs": [
    {
     "data": {
      "image/png": "[encoded data removed]",
      "text/plain": [
       "<Figure size 432x288 with 1 Axes>"
      ]
     },
     "metadata": {
      "needs_background": "light"
     },
     "output_type": "display_data"
    }
   ],
   "source": [
    "plt.plot(xtest,ypred)\n",
    "plt.scatter(x=xtest, y=ytest, color = 'r')\n",
    "plt.show()"
   ]
  },
  {
   "cell_type": "code",
   "execution_count": 15,
   "id": "e024a895",
   "metadata": {},
   "outputs": [
    {
     "name": "stdout",
     "output_type": "stream",
     "text": [
      "The score of the linear model is  1.0\n"
     ]
    }
   ],
   "source": [
    "print('The score of the linear model is ', regr.score(xtest,ypred))"
   ]
  },
  {
   "cell_type": "code",
   "execution_count": null,
   "id": "0fffb6ec",
   "metadata": {},
   "outputs": [],
   "source": []
  }
 ],
 "metadata": {
  "kernelspec": {
   "display_name": "Python 3 (ipykernel)",
   "language": "python",
   "name": "python3"
  },
  "language_info": {
   "codemirror_mode": {
    "name": "ipython",
    "version": 3
   },
   "file_extension": ".py",
   "mimetype": "text/x-python",
   "name": "python",
   "nbconvert_exporter": "python",
   "pygments_lexer": "ipython3",
   "version": "3.10.0"
  }
 },
 "nbformat": 4,
 "nbformat_minor": 5
}
